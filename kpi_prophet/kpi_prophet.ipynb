{
 "cells": [
  {
   "cell_type": "code",
   "execution_count": 2,
   "id": "3ae54393",
   "metadata": {},
   "outputs": [
    {
     "name": "stderr",
     "output_type": "stream",
     "text": [
      "C:\\Users\\USER-64\\AppData\\Local\\Packages\\PythonSoftwareFoundation.Python.3.11_qbz5n2kfra8p0\\LocalCache\\local-packages\\Python311\\site-packages\\tqdm\\auto.py:21: TqdmWarning: IProgress not found. Please update jupyter and ipywidgets. See https://ipywidgets.readthedocs.io/en/stable/user_install.html\n",
      "  from .autonotebook import tqdm as notebook_tqdm\n",
      "Importing plotly failed. Interactive plots will not work.\n"
     ]
    }
   ],
   "source": [
    "import pandas as pd\n",
    "import matplotlib.pyplot as plt\n",
    "from prophet import Prophet\n",
    "import numpy as np"
   ]
  },
  {
   "cell_type": "code",
   "execution_count": 4,
   "id": "6a2f1502",
   "metadata": {},
   "outputs": [],
   "source": [
    "cidades_zul = pd.read_csv('cidades_zul.csv').drop(columns=['kpi'])\n"
   ]
  },
  {
   "cell_type": "code",
   "execution_count": 5,
   "id": "b08556bb",
   "metadata": {},
   "outputs": [
    {
     "data": {
      "text/html": [
       "<div>\n",
       "<style scoped>\n",
       "    .dataframe tbody tr th:only-of-type {\n",
       "        vertical-align: middle;\n",
       "    }\n",
       "\n",
       "    .dataframe tbody tr th {\n",
       "        vertical-align: top;\n",
       "    }\n",
       "\n",
       "    .dataframe thead th {\n",
       "        text-align: right;\n",
       "    }\n",
       "</style>\n",
       "<table border=\"1\" class=\"dataframe\">\n",
       "  <thead>\n",
       "    <tr style=\"text-align: right;\">\n",
       "      <th></th>\n",
       "      <th>day</th>\n",
       "      <th>percentualDifference</th>\n",
       "    </tr>\n",
       "  </thead>\n",
       "  <tbody>\n",
       "    <tr>\n",
       "      <th>0</th>\n",
       "      <td>2025-03-03</td>\n",
       "      <td>-26.17</td>\n",
       "    </tr>\n",
       "    <tr>\n",
       "      <th>1</th>\n",
       "      <td>2025-03-04</td>\n",
       "      <td>-24.29</td>\n",
       "    </tr>\n",
       "    <tr>\n",
       "      <th>2</th>\n",
       "      <td>2025-03-05</td>\n",
       "      <td>-20.35</td>\n",
       "    </tr>\n",
       "    <tr>\n",
       "      <th>3</th>\n",
       "      <td>2025-03-06</td>\n",
       "      <td>-0.75</td>\n",
       "    </tr>\n",
       "    <tr>\n",
       "      <th>4</th>\n",
       "      <td>2025-03-07</td>\n",
       "      <td>-1.30</td>\n",
       "    </tr>\n",
       "  </tbody>\n",
       "</table>\n",
       "</div>"
      ],
      "text/plain": [
       "         day  percentualDifference\n",
       "0 2025-03-03                -26.17\n",
       "1 2025-03-04                -24.29\n",
       "2 2025-03-05                -20.35\n",
       "3 2025-03-06                 -0.75\n",
       "4 2025-03-07                 -1.30"
      ]
     },
     "execution_count": 5,
     "metadata": {},
     "output_type": "execute_result"
    }
   ],
   "source": [
    "cidades_zul['day'] = pd.to_datetime(cidades_zul['day'])\n",
    "cidades_zul = cidades_zul[['day', 'percentualDifference']]\n",
    "\n",
    "\n",
    "# Calcula quantas linhas devem ser mantidas (múltiplo de 7)\n",
    "num_rows = len(cidades_zul)\n",
    "complete_weeks = num_rows // 5  # parte inteira\n",
    "rows_to_keep = complete_weeks * 5\n",
    "\n",
    "# Mantém apenas semanas completas\n",
    "cidades_zul = cidades_zul.iloc[:rows_to_keep]\n",
    "\n",
    "\n",
    "cidades_zul.head()"
   ]
  },
  {
   "cell_type": "code",
   "execution_count": 6,
   "id": "65bb4a92",
   "metadata": {},
   "outputs": [
    {
     "name": "stdout",
     "output_type": "stream",
     "text": [
      "datetime64[ns]\n"
     ]
    }
   ],
   "source": [
    "print(cidades_zul['day'].dtypes)\n",
    "cidades_zul.columns = ['ds','y']"
   ]
  },
  {
   "cell_type": "code",
   "execution_count": 7,
   "id": "1d87a95e",
   "metadata": {},
   "outputs": [
    {
     "name": "stderr",
     "output_type": "stream",
     "text": [
      "03:16:02 - cmdstanpy - INFO - Chain [1] start processing\n",
      "03:16:03 - cmdstanpy - INFO - Chain [1] done processing\n"
     ]
    },
    {
     "data": {
      "text/plain": [
       "<prophet.forecaster.Prophet at 0x1f63202fb50>"
      ]
     },
     "execution_count": 7,
     "metadata": {},
     "output_type": "execute_result"
    }
   ],
   "source": [
    "train = cidades_zul[:-5]\n",
    "test = cidades_zul[-5:]\n",
    "\n",
    "model = Prophet()\n",
    "model.fit(train)"
   ]
  },
  {
   "cell_type": "code",
   "execution_count": 8,
   "id": "8ac3103f",
   "metadata": {},
   "outputs": [
    {
     "data": {
      "text/html": [
       "<div>\n",
       "<style scoped>\n",
       "    .dataframe tbody tr th:only-of-type {\n",
       "        vertical-align: middle;\n",
       "    }\n",
       "\n",
       "    .dataframe tbody tr th {\n",
       "        vertical-align: top;\n",
       "    }\n",
       "\n",
       "    .dataframe thead th {\n",
       "        text-align: right;\n",
       "    }\n",
       "</style>\n",
       "<table border=\"1\" class=\"dataframe\">\n",
       "  <thead>\n",
       "    <tr style=\"text-align: right;\">\n",
       "      <th></th>\n",
       "      <th>ds</th>\n",
       "      <th>y</th>\n",
       "    </tr>\n",
       "  </thead>\n",
       "  <tbody>\n",
       "    <tr>\n",
       "      <th>70</th>\n",
       "      <td>2025-06-09</td>\n",
       "      <td>14.31</td>\n",
       "    </tr>\n",
       "    <tr>\n",
       "      <th>71</th>\n",
       "      <td>2025-06-10</td>\n",
       "      <td>13.63</td>\n",
       "    </tr>\n",
       "    <tr>\n",
       "      <th>72</th>\n",
       "      <td>2025-06-11</td>\n",
       "      <td>18.53</td>\n",
       "    </tr>\n",
       "    <tr>\n",
       "      <th>73</th>\n",
       "      <td>2025-06-12</td>\n",
       "      <td>10.85</td>\n",
       "    </tr>\n",
       "    <tr>\n",
       "      <th>74</th>\n",
       "      <td>2025-06-13</td>\n",
       "      <td>6.90</td>\n",
       "    </tr>\n",
       "  </tbody>\n",
       "</table>\n",
       "</div>"
      ],
      "text/plain": [
       "           ds      y\n",
       "70 2025-06-09  14.31\n",
       "71 2025-06-10  13.63\n",
       "72 2025-06-11  18.53\n",
       "73 2025-06-12  10.85\n",
       "74 2025-06-13   6.90"
      ]
     },
     "execution_count": 8,
     "metadata": {},
     "output_type": "execute_result"
    }
   ],
   "source": [
    "test.head(10)"
   ]
  },
  {
   "cell_type": "code",
   "execution_count": 9,
   "id": "ee390bb7",
   "metadata": {},
   "outputs": [
    {
     "name": "stdout",
     "output_type": "stream",
     "text": [
      "           ds     y\n",
      "69 2025-06-06  4.24\n"
     ]
    }
   ],
   "source": [
    "print(train.tail(1))"
   ]
  },
  {
   "cell_type": "code",
   "execution_count": 10,
   "id": "afa33e07",
   "metadata": {},
   "outputs": [],
   "source": [
    "future = model.make_future_dataframe(periods=7, freq='B')\n",
    "forecast = model.predict(future)"
   ]
  },
  {
   "cell_type": "code",
   "execution_count": 11,
   "id": "7c88b61c",
   "metadata": {},
   "outputs": [
    {
     "data": {
      "image/png": "[encoded data removed]",
      "text/plain": [
       "<Figure size 1000x600 with 1 Axes>"
      ]
     },
     "metadata": {},
     "output_type": "display_data"
    }
   ],
   "source": [
    "# Gera o gráfico da previsão completa\n",
    "fig = model.plot(forecast, xlabel='Date', ylabel='Diferença percentual')\n",
    "\n",
    "# Define o intervalo do eixo x para mostrar apenas os últimos 7 dias\n",
    "start_date = test['ds'].min()\n",
    "end_date = test['ds'].max()\n",
    "plt.xlim(start_date, end_date)\n",
    "\n",
    "# Adiciona os pontos reais do teste\n",
    "plt.plot(test['ds'], test['y'], 'r.', label='Dados reais')  # pontos vermelhos\n",
    "\n",
    "# Título e legenda\n",
    "plt.title('Cidades zul - últimos 7 dias')\n",
    "plt.legend()\n",
    "plt.show()"
   ]
  },
  {
   "cell_type": "markdown",
   "id": "95c3458d",
   "metadata": {},
   "source": [
    "Atualização do modelo"
   ]
  },
  {
   "cell_type": "code",
   "execution_count": null,
   "id": "c676bab4",
   "metadata": {},
   "outputs": [
    {
     "name": "stderr",
     "output_type": "stream",
     "text": [
      "03:26:42 - cmdstanpy - INFO - Chain [1] start processing\n",
      "03:26:43 - cmdstanpy - INFO - Chain [1] done processing\n",
      "03:26:43 - cmdstanpy - INFO - Chain [1] start processing\n",
      "03:26:43 - cmdstanpy - INFO - Chain [1] done processing\n"
     ]
    }
   ],
   "source": [
    "# daremos ao Prophet uma inicialização rápida , \n",
    "# passando os parâmetros do modelo de ontem para inicialização. \n",
    "# Primeiro, precisamos definir uma classe para formatar esses parâmetros corretamente\n",
    "\n",
    "class StanInit:\n",
    "    def __init__(self, model):\n",
    "        self.params = {\n",
    "            'k': np.mean(model.params['k']),\n",
    "            'm': np.mean(model.params['m']),\n",
    "            'sigma_obs': \\\n",
    "            np.mean(model.params['sigma_obs']),\n",
    "            'delta': np.mean(model.params['delta'],\n",
    "                            axis=0),\n",
    "            'beta': np.mean(model.params['beta'], axis=0)\n",
    "        }\n",
    "    def __call__(self):\n",
    "        return self.params\n",
    "\n",
    "# Estou apenas adicionando novos dados ao modelo\n",
    "cidades_zul_ontem = cidades_zul[cidades_zul['ds'] < cidades_zul['ds'].max()]\n",
    "model1 = Prophet().fit(cidades_zul_ontem)\n",
    "\n",
    "model2 = Prophet().fit(\n",
    "    cidades_zul,\n",
    "    inits=StanInit(model1)())"
   ]
  },
  {
   "cell_type": "code",
   "execution_count": 13,
   "id": "2749f94c",
   "metadata": {},
   "outputs": [],
   "source": [
    "from prophet.plot import (\n",
    "    plot_plotly,\n",
    "    plot_components_plotly,\n",
    "    plot_forecast_component_plotly,\n",
    "    plot_seasonality_plotly\n",
    ")"
   ]
  },
  {
   "cell_type": "code",
   "execution_count": 15,
   "id": "dcb7b993",
   "metadata": {},
   "outputs": [
    {
     "ename": "NameError",
     "evalue": "name 'go' is not defined",
     "output_type": "error",
     "traceback": [
      "\u001b[1;31m---------------------------------------------------------------------------\u001b[0m",
      "\u001b[1;31mNameError\u001b[0m                                 Traceback (most recent call last)",
      "Cell \u001b[1;32mIn[15], line 1\u001b[0m\n\u001b[1;32m----> 1\u001b[0m fig \u001b[38;5;241m=\u001b[39m \u001b[43mplot_plotly\u001b[49m\u001b[43m(\u001b[49m\u001b[43mmodel2\u001b[49m\u001b[43m,\u001b[49m\u001b[43m \u001b[49m\u001b[43mforecast\u001b[49m\u001b[43m,\u001b[49m\u001b[43m \u001b[49m\u001b[43mtrend\u001b[49m\u001b[38;5;241;43m=\u001b[39;49m\u001b[38;5;28;43;01mTrue\u001b[39;49;00m\u001b[43m)\u001b[49m\n\u001b[0;32m      2\u001b[0m py\u001b[38;5;241m.\u001b[39miplot(fig)\n",
      "File \u001b[1;32m~\\AppData\\Local\\Packages\\PythonSoftwareFoundation.Python.3.11_qbz5n2kfra8p0\\LocalCache\\local-packages\\Python311\\site-packages\\prophet\\plot.py:599\u001b[0m, in \u001b[0;36mplot_plotly\u001b[1;34m(m, fcst, uncertainty, plot_cap, trend, changepoints, changepoints_threshold, xlabel, ylabel, figsize)\u001b[0m\n\u001b[0;32m    597\u001b[0m data \u001b[38;5;241m=\u001b[39m []\n\u001b[0;32m    598\u001b[0m \u001b[38;5;66;03m# Add actual\u001b[39;00m\n\u001b[1;32m--> 599\u001b[0m data\u001b[38;5;241m.\u001b[39mappend(\u001b[43mgo\u001b[49m\u001b[38;5;241m.\u001b[39mScatter(\n\u001b[0;32m    600\u001b[0m     name\u001b[38;5;241m=\u001b[39m\u001b[38;5;124m'\u001b[39m\u001b[38;5;124mActual\u001b[39m\u001b[38;5;124m'\u001b[39m,\n\u001b[0;32m    601\u001b[0m     x\u001b[38;5;241m=\u001b[39mm\u001b[38;5;241m.\u001b[39mhistory[\u001b[38;5;124m'\u001b[39m\u001b[38;5;124mds\u001b[39m\u001b[38;5;124m'\u001b[39m],\n\u001b[0;32m    602\u001b[0m     y\u001b[38;5;241m=\u001b[39mm\u001b[38;5;241m.\u001b[39mhistory[\u001b[38;5;124m'\u001b[39m\u001b[38;5;124my\u001b[39m\u001b[38;5;124m'\u001b[39m],\n\u001b[0;32m    603\u001b[0m     marker\u001b[38;5;241m=\u001b[39m\u001b[38;5;28mdict\u001b[39m(color\u001b[38;5;241m=\u001b[39mactual_color, size\u001b[38;5;241m=\u001b[39mmarker_size),\n\u001b[0;32m    604\u001b[0m     mode\u001b[38;5;241m=\u001b[39m\u001b[38;5;124m'\u001b[39m\u001b[38;5;124mmarkers\u001b[39m\u001b[38;5;124m'\u001b[39m\n\u001b[0;32m    605\u001b[0m ))\n\u001b[0;32m    606\u001b[0m \u001b[38;5;66;03m# Add lower bound\u001b[39;00m\n\u001b[0;32m    607\u001b[0m \u001b[38;5;28;01mif\u001b[39;00m uncertainty \u001b[38;5;129;01mand\u001b[39;00m m\u001b[38;5;241m.\u001b[39muncertainty_samples:\n",
      "\u001b[1;31mNameError\u001b[0m: name 'go' is not defined"
     ]
    }
   ],
   "source": [
    "fig = plot_plotly(model2, forecast, trend=True)\n",
    "py.iplot(fig)"
   ]
  },
  {
   "cell_type": "code",
   "execution_count": null,
   "id": "a296a2f3",
   "metadata": {},
   "outputs": [],
   "source": []
  }
 ],
 "metadata": {
  "kernelspec": {
   "display_name": "Python 3",
   "language": "python",
   "name": "python3"
  },
  "language_info": {
   "codemirror_mode": {
    "name": "ipython",
    "version": 3
   },
   "file_extension": ".py",
   "mimetype": "text/x-python",
   "name": "python",
   "nbconvert_exporter": "python",
   "pygments_lexer": "ipython3",
   "version": "3.11.9"
  }
 },
 "nbformat": 4,
 "nbformat_minor": 5
}
